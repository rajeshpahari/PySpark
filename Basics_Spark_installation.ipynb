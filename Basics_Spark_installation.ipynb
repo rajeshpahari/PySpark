{
  "nbformat": 4,
  "nbformat_minor": 0,
  "metadata": {
    "colab": {
      "provenance": [],
      "authorship_tag": "ABX9TyNtLytfA6W3e4JaJntFd0i5",
      "include_colab_link": true
    },
    "kernelspec": {
      "name": "python3",
      "display_name": "Python 3"
    },
    "language_info": {
      "name": "python"
    }
  },
  "cells": [
    {
      "cell_type": "markdown",
      "metadata": {
        "id": "view-in-github",
        "colab_type": "text"
      },
      "source": [
        "<a href=\"https://colab.research.google.com/github/rajeshpahari/PySpark/blob/main/Basics_Spark_installation.ipynb\" target=\"_parent\"><img src=\"https://colab.research.google.com/assets/colab-badge.svg\" alt=\"Open In Colab\"/></a>"
      ]
    },
    {
      "cell_type": "code",
      "execution_count": null,
      "metadata": {
        "colab": {
          "base_uri": "https://localhost:8080/"
        },
        "id": "ARxCZaaKyoOc",
        "outputId": "dba1f6b1-b99f-4a5d-ca28-45c7a873a0bc"
      },
      "outputs": [
        {
          "output_type": "stream",
          "name": "stdout",
          "text": [
            "Package                          Version               Location                                Installer\n",
            "-------------------------------- --------------------- --------------------------------------- ---------\n",
            "absl-py                          1.4.0                 /usr/local/lib/python3.10/dist-packages pip\n",
            "aiohttp                          3.8.5                 /usr/local/lib/python3.10/dist-packages pip\n",
            "aiosignal                        1.3.1                 /usr/local/lib/python3.10/dist-packages pip\n",
            "alabaster                        0.7.13                /usr/local/lib/python3.10/dist-packages pip\n",
            "albumentations                   1.3.1                 /usr/local/lib/python3.10/dist-packages pip\n",
            "altair                           4.2.2                 /usr/local/lib/python3.10/dist-packages pip\n",
            "annotated-types                  0.5.0                 /usr/local/lib/python3.10/dist-packages pip\n",
            "anyio                            3.7.1                 /usr/local/lib/python3.10/dist-packages pip\n",
            "appdirs                          1.4.4                 /usr/local/lib/python3.10/dist-packages pip\n",
            "argon2-cffi                      23.1.0                /usr/local/lib/python3.10/dist-packages pip\n",
            "argon2-cffi-bindings             21.2.0                /usr/local/lib/python3.10/dist-packages pip\n",
            "array-record                     0.4.1                 /usr/local/lib/python3.10/dist-packages pip\n",
            "arviz                            0.15.1                /usr/local/lib/python3.10/dist-packages pip\n",
            "astropy                          5.3.2                 /usr/local/lib/python3.10/dist-packages pip\n",
            "astunparse                       1.6.3                 /usr/local/lib/python3.10/dist-packages pip\n",
            "async-timeout                    4.0.3                 /usr/local/lib/python3.10/dist-packages pip\n",
            "attrs                            23.1.0                /usr/local/lib/python3.10/dist-packages pip\n",
            "audioread                        3.0.0                 /usr/local/lib/python3.10/dist-packages pip\n",
            "autograd                         1.6.2                 /usr/local/lib/python3.10/dist-packages pip\n",
            "Babel                            2.12.1                /usr/local/lib/python3.10/dist-packages pip\n",
            "backcall                         0.2.0                 /usr/local/lib/python3.10/dist-packages pip\n",
            "beautifulsoup4                   4.11.2                /usr/local/lib/python3.10/dist-packages pip\n",
            "bleach                           6.0.0                 /usr/local/lib/python3.10/dist-packages pip\n",
            "blinker                          1.4                   /usr/lib/python3/dist-packages\n",
            "blis                             0.7.10                /usr/local/lib/python3.10/dist-packages pip\n",
            "blosc2                           2.0.0                 /usr/local/lib/python3.10/dist-packages pip\n",
            "bokeh                            3.2.2                 /usr/local/lib/python3.10/dist-packages pip\n",
            "branca                           0.6.0                 /usr/local/lib/python3.10/dist-packages pip\n",
            "build                            0.10.0                /usr/local/lib/python3.10/dist-packages pip\n",
            "CacheControl                     0.13.1                /usr/local/lib/python3.10/dist-packages pip\n",
            "cachetools                       5.3.1                 /usr/local/lib/python3.10/dist-packages pip\n",
            "catalogue                        2.0.9                 /usr/local/lib/python3.10/dist-packages pip\n",
            "certifi                          2023.7.22             /usr/local/lib/python3.10/dist-packages pip\n",
            "cffi                             1.15.1                /usr/local/lib/python3.10/dist-packages pip\n",
            "chardet                          5.2.0                 /usr/local/lib/python3.10/dist-packages pip\n",
            "charset-normalizer               3.2.0                 /usr/local/lib/python3.10/dist-packages pip\n",
            "chex                             0.1.7                 /usr/local/lib/python3.10/dist-packages pip\n",
            "click                            8.1.7                 /usr/local/lib/python3.10/dist-packages pip\n",
            "click-plugins                    1.1.1                 /usr/local/lib/python3.10/dist-packages pip\n",
            "cligj                            0.7.2                 /usr/local/lib/python3.10/dist-packages pip\n",
            "cloudpickle                      2.2.1                 /usr/local/lib/python3.10/dist-packages pip\n",
            "cmake                            3.27.2                /usr/local/lib/python3.10/dist-packages pip\n",
            "cmdstanpy                        1.1.0                 /usr/local/lib/python3.10/dist-packages pip\n",
            "colorcet                         3.0.1                 /usr/local/lib/python3.10/dist-packages pip\n",
            "colorlover                       0.3.0                 /usr/local/lib/python3.10/dist-packages pip\n",
            "community                        1.0.0b1               /usr/local/lib/python3.10/dist-packages pip\n",
            "confection                       0.1.1                 /usr/local/lib/python3.10/dist-packages pip\n",
            "cons                             0.4.6                 /usr/local/lib/python3.10/dist-packages pip\n",
            "contextlib2                      21.6.0                /usr/local/lib/python3.10/dist-packages pip\n",
            "contourpy                        1.1.0                 /usr/local/lib/python3.10/dist-packages pip\n",
            "convertdate                      2.4.0                 /usr/local/lib/python3.10/dist-packages pip\n",
            "cryptography                     41.0.3                /usr/local/lib/python3.10/dist-packages pip\n",
            "cufflinks                        0.17.3                /usr/local/lib/python3.10/dist-packages pip\n",
            "cvxopt                           1.3.2                 /usr/local/lib/python3.10/dist-packages pip\n",
            "cvxpy                            1.3.2                 /usr/local/lib/python3.10/dist-packages pip\n",
            "cycler                           0.11.0                /usr/local/lib/python3.10/dist-packages pip\n",
            "cymem                            2.0.7                 /usr/local/lib/python3.10/dist-packages pip\n",
            "Cython                           0.29.36               /usr/local/lib/python3.10/dist-packages pip\n",
            "dask                             2023.8.1              /usr/local/lib/python3.10/dist-packages pip\n",
            "datascience                      0.17.6                /usr/local/lib/python3.10/dist-packages pip\n",
            "db-dtypes                        1.1.1                 /usr/local/lib/python3.10/dist-packages pip\n",
            "dbus-python                      1.2.18                /usr/lib/python3/dist-packages\n",
            "debugpy                          1.6.6                 /usr/local/lib/python3.10/dist-packages pip\n",
            "decorator                        4.4.2                 /usr/local/lib/python3.10/dist-packages pip\n",
            "defusedxml                       0.7.1                 /usr/local/lib/python3.10/dist-packages pip\n",
            "distributed                      2023.8.1              /usr/local/lib/python3.10/dist-packages pip\n",
            "distro                           1.7.0                 /usr/lib/python3/dist-packages\n",
            "dlib                             19.24.2               /usr/local/lib/python3.10/dist-packages pip\n",
            "dm-tree                          0.1.8                 /usr/local/lib/python3.10/dist-packages pip\n",
            "docutils                         0.18.1                /usr/local/lib/python3.10/dist-packages pip\n",
            "dopamine-rl                      4.0.6                 /usr/local/lib/python3.10/dist-packages pip\n",
            "duckdb                           0.8.1                 /usr/local/lib/python3.10/dist-packages pip\n",
            "earthengine-api                  0.1.364               /usr/local/lib/python3.10/dist-packages pip\n",
            "easydict                         1.10                  /usr/local/lib/python3.10/dist-packages pip\n",
            "ecos                             2.0.12                /usr/local/lib/python3.10/dist-packages pip\n",
            "editdistance                     0.6.2                 /usr/local/lib/python3.10/dist-packages pip\n",
            "en-core-web-sm                   3.6.0                 /usr/local/lib/python3.10/dist-packages pip\n",
            "entrypoints                      0.4                   /usr/local/lib/python3.10/dist-packages pip\n",
            "ephem                            4.1.4                 /usr/local/lib/python3.10/dist-packages pip\n",
            "et-xmlfile                       1.1.0                 /usr/local/lib/python3.10/dist-packages pip\n",
            "etils                            1.4.1                 /usr/local/lib/python3.10/dist-packages pip\n",
            "etuples                          0.3.9                 /usr/local/lib/python3.10/dist-packages pip\n",
            "exceptiongroup                   1.1.3                 /usr/local/lib/python3.10/dist-packages pip\n",
            "fastai                           2.7.12                /usr/local/lib/python3.10/dist-packages pip\n",
            "fastcore                         1.5.29                /usr/local/lib/python3.10/dist-packages pip\n",
            "fastdownload                     0.0.7                 /usr/local/lib/python3.10/dist-packages pip\n",
            "fastjsonschema                   2.18.0                /usr/local/lib/python3.10/dist-packages pip\n",
            "fastprogress                     1.0.3                 /usr/local/lib/python3.10/dist-packages pip\n",
            "fastrlock                        0.8.1                 /usr/local/lib/python3.10/dist-packages pip\n",
            "filelock                         3.12.2                /usr/local/lib/python3.10/dist-packages pip\n",
            "Fiona                            1.9.4.post1           /usr/local/lib/python3.10/dist-packages pip\n",
            "firebase-admin                   5.3.0                 /usr/local/lib/python3.10/dist-packages pip\n",
            "Flask                            2.2.5                 /usr/local/lib/python3.10/dist-packages pip\n",
            "flatbuffers                      23.5.26               /usr/local/lib/python3.10/dist-packages pip\n",
            "flax                             0.7.2                 /usr/local/lib/python3.10/dist-packages pip\n",
            "folium                           0.14.0                /usr/local/lib/python3.10/dist-packages pip\n",
            "fonttools                        4.42.1                /usr/local/lib/python3.10/dist-packages pip\n",
            "frozendict                       2.3.8                 /usr/local/lib/python3.10/dist-packages pip\n",
            "frozenlist                       1.4.0                 /usr/local/lib/python3.10/dist-packages pip\n",
            "fsspec                           2023.6.0              /usr/local/lib/python3.10/dist-packages pip\n",
            "future                           0.18.3                /usr/local/lib/python3.10/dist-packages pip\n",
            "gast                             0.4.0                 /usr/local/lib/python3.10/dist-packages pip\n",
            "gcsfs                            2023.6.0              /usr/local/lib/python3.10/dist-packages pip\n",
            "GDAL                             3.4.3                 /usr/local/lib/python3.10/dist-packages pip\n",
            "gdown                            4.6.6                 /usr/local/lib/python3.10/dist-packages pip\n",
            "gensim                           4.3.1                 /usr/local/lib/python3.10/dist-packages pip\n",
            "geographiclib                    2.0                   /usr/local/lib/python3.10/dist-packages pip\n",
            "geopandas                        0.13.2                /usr/local/lib/python3.10/dist-packages pip\n",
            "geopy                            2.3.0                 /usr/local/lib/python3.10/dist-packages pip\n",
            "gin-config                       0.5.0                 /usr/local/lib/python3.10/dist-packages pip\n",
            "glob2                            0.7                   /usr/local/lib/python3.10/dist-packages pip\n",
            "google                           2.0.3                 /usr/local/lib/python3.10/dist-packages pip\n",
            "google-api-core                  2.11.1                /usr/local/lib/python3.10/dist-packages pip\n",
            "google-api-python-client         2.84.0                /usr/local/lib/python3.10/dist-packages pip\n",
            "google-auth                      2.17.3                /usr/local/lib/python3.10/dist-packages pip\n",
            "google-auth-httplib2             0.1.0                 /usr/local/lib/python3.10/dist-packages pip\n",
            "google-auth-oauthlib             1.0.0                 /usr/local/lib/python3.10/dist-packages pip\n",
            "google-cloud-bigquery            3.10.0                /usr/local/lib/python3.10/dist-packages pip\n",
            "google-cloud-bigquery-connection 1.12.1                /usr/local/lib/python3.10/dist-packages pip\n",
            "google-cloud-bigquery-storage    2.22.0                /usr/local/lib/python3.10/dist-packages pip\n",
            "google-cloud-core                2.3.3                 /usr/local/lib/python3.10/dist-packages pip\n",
            "google-cloud-datastore           2.15.2                /usr/local/lib/python3.10/dist-packages pip\n",
            "google-cloud-firestore           2.11.1                /usr/local/lib/python3.10/dist-packages pip\n",
            "google-cloud-functions           1.13.2                /usr/local/lib/python3.10/dist-packages pip\n",
            "google-cloud-language            2.9.1                 /usr/local/lib/python3.10/dist-packages pip\n",
            "google-cloud-storage             2.8.0                 /usr/local/lib/python3.10/dist-packages pip\n",
            "google-cloud-translate           3.11.3                /usr/local/lib/python3.10/dist-packages pip\n",
            "google-colab                     1.0.0                 /usr/local/lib/python3.10/dist-packages pip\n",
            "google-crc32c                    1.5.0                 /usr/local/lib/python3.10/dist-packages pip\n",
            "google-pasta                     0.2.0                 /usr/local/lib/python3.10/dist-packages pip\n",
            "google-resumable-media           2.5.0                 /usr/local/lib/python3.10/dist-packages pip\n",
            "googleapis-common-protos         1.60.0                /usr/local/lib/python3.10/dist-packages pip\n",
            "googledrivedownloader            0.4                   /usr/local/lib/python3.10/dist-packages pip\n",
            "graphviz                         0.20.1                /usr/local/lib/python3.10/dist-packages pip\n",
            "greenlet                         2.0.2                 /usr/local/lib/python3.10/dist-packages pip\n",
            "grpc-google-iam-v1               0.12.6                /usr/local/lib/python3.10/dist-packages pip\n",
            "grpcio                           1.57.0                /usr/local/lib/python3.10/dist-packages pip\n",
            "grpcio-status                    1.48.2                /usr/local/lib/python3.10/dist-packages pip\n",
            "gspread                          3.4.2                 /usr/local/lib/python3.10/dist-packages pip\n",
            "gspread-dataframe                3.3.1                 /usr/local/lib/python3.10/dist-packages pip\n",
            "gym                              0.25.2                /usr/local/lib/python3.10/dist-packages pip\n",
            "gym-notices                      0.0.8                 /usr/local/lib/python3.10/dist-packages pip\n",
            "h5netcdf                         1.2.0                 /usr/local/lib/python3.10/dist-packages pip\n",
            "h5py                             3.9.0                 /usr/local/lib/python3.10/dist-packages pip\n",
            "holidays                         0.31                  /usr/local/lib/python3.10/dist-packages pip\n",
            "holoviews                        1.17.1                /usr/local/lib/python3.10/dist-packages pip\n",
            "html5lib                         1.1                   /usr/local/lib/python3.10/dist-packages pip\n",
            "httpimport                       1.3.1                 /usr/local/lib/python3.10/dist-packages pip\n",
            "httplib2                         0.22.0                /usr/local/lib/python3.10/dist-packages pip\n",
            "humanize                         4.7.0                 /usr/local/lib/python3.10/dist-packages pip\n",
            "hyperopt                         0.2.7                 /usr/local/lib/python3.10/dist-packages pip\n",
            "idna                             3.4                   /usr/local/lib/python3.10/dist-packages pip\n",
            "imageio                          2.31.1                /usr/local/lib/python3.10/dist-packages pip\n",
            "imageio-ffmpeg                   0.4.8                 /usr/local/lib/python3.10/dist-packages pip\n",
            "imagesize                        1.4.1                 /usr/local/lib/python3.10/dist-packages pip\n",
            "imbalanced-learn                 0.10.1                /usr/local/lib/python3.10/dist-packages pip\n",
            "imgaug                           0.4.0                 /usr/local/lib/python3.10/dist-packages pip\n",
            "importlib-metadata               6.8.0                 /usr/local/lib/python3.10/dist-packages pip\n",
            "importlib-resources              6.0.1                 /usr/local/lib/python3.10/dist-packages pip\n",
            "imutils                          0.5.4                 /usr/local/lib/python3.10/dist-packages pip\n",
            "inflect                          7.0.0                 /usr/local/lib/python3.10/dist-packages pip\n",
            "iniconfig                        2.0.0                 /usr/local/lib/python3.10/dist-packages pip\n",
            "intel-openmp                     2023.2.0              /usr/local/lib/python3.10/dist-packages pip\n",
            "ipykernel                        5.5.6                 /usr/local/lib/python3.10/dist-packages pip\n",
            "ipython                          7.34.0                /usr/local/lib/python3.10/dist-packages pip\n",
            "ipython-genutils                 0.2.0                 /usr/local/lib/python3.10/dist-packages pip\n",
            "ipython-sql                      0.5.0                 /usr/local/lib/python3.10/dist-packages pip\n",
            "ipywidgets                       7.7.1                 /usr/local/lib/python3.10/dist-packages pip\n",
            "itsdangerous                     2.1.2                 /usr/local/lib/python3.10/dist-packages pip\n",
            "jax                              0.4.14                /usr/local/lib/python3.10/dist-packages pip\n",
            "jaxlib                           0.4.14+cuda11.cudnn86 /usr/local/lib/python3.10/dist-packages pip\n",
            "jeepney                          0.7.1                 /usr/lib/python3/dist-packages          flit\n",
            "jieba                            0.42.1                /usr/local/lib/python3.10/dist-packages pip\n",
            "Jinja2                           3.1.2                 /usr/local/lib/python3.10/dist-packages pip\n",
            "joblib                           1.3.2                 /usr/local/lib/python3.10/dist-packages pip\n",
            "jsonpickle                       3.0.2                 /usr/local/lib/python3.10/dist-packages pip\n",
            "jsonschema                       4.19.0                /usr/local/lib/python3.10/dist-packages pip\n",
            "jsonschema-specifications        2023.7.1              /usr/local/lib/python3.10/dist-packages pip\n",
            "jupyter-client                   6.1.12                /usr/local/lib/python3.10/dist-packages pip\n",
            "jupyter-console                  6.1.0                 /usr/local/lib/python3.10/dist-packages pip\n",
            "jupyter_core                     5.3.1                 /usr/local/lib/python3.10/dist-packages pip\n",
            "jupyter-server                   1.24.0                /usr/local/lib/python3.10/dist-packages pip\n",
            "jupyterlab-pygments              0.2.2                 /usr/local/lib/python3.10/dist-packages pip\n",
            "jupyterlab-widgets               3.0.8                 /usr/local/lib/python3.10/dist-packages pip\n",
            "kaggle                           1.5.16                /usr/local/lib/python3.10/dist-packages pip\n",
            "keras                            2.12.0                /usr/local/lib/python3.10/dist-packages pip\n",
            "keyring                          23.5.0                /usr/lib/python3/dist-packages\n",
            "kiwisolver                       1.4.4                 /usr/local/lib/python3.10/dist-packages pip\n",
            "langcodes                        3.3.0                 /usr/local/lib/python3.10/dist-packages pip\n",
            "launchpadlib                     1.10.16               /usr/lib/python3/dist-packages\n",
            "lazr.restfulclient               0.14.4                /usr/lib/python3/dist-packages\n",
            "lazr.uri                         1.0.6                 /usr/lib/python3/dist-packages\n",
            "lazy_loader                      0.3                   /usr/local/lib/python3.10/dist-packages pip\n",
            "libclang                         16.0.6                /usr/local/lib/python3.10/dist-packages pip\n",
            "librosa                          0.10.1                /usr/local/lib/python3.10/dist-packages pip\n",
            "lightgbm                         4.0.0                 /usr/local/lib/python3.10/dist-packages pip\n",
            "linkify-it-py                    2.0.2                 /usr/local/lib/python3.10/dist-packages pip\n",
            "lit                              16.0.6                /usr/local/lib/python3.10/dist-packages pip\n",
            "llvmlite                         0.39.1                /usr/local/lib/python3.10/dist-packages pip\n",
            "locket                           1.0.0                 /usr/local/lib/python3.10/dist-packages pip\n",
            "logical-unification              0.4.6                 /usr/local/lib/python3.10/dist-packages pip\n",
            "LunarCalendar                    0.0.9                 /usr/local/lib/python3.10/dist-packages pip\n",
            "lxml                             4.9.3                 /usr/local/lib/python3.10/dist-packages pip\n",
            "Markdown                         3.4.4                 /usr/local/lib/python3.10/dist-packages pip\n",
            "markdown-it-py                   3.0.0                 /usr/local/lib/python3.10/dist-packages pip\n",
            "MarkupSafe                       2.1.3                 /usr/local/lib/python3.10/dist-packages pip\n",
            "matplotlib                       3.7.1                 /usr/local/lib/python3.10/dist-packages pip\n",
            "matplotlib-inline                0.1.6                 /usr/local/lib/python3.10/dist-packages pip\n",
            "matplotlib-venn                  0.11.9                /usr/local/lib/python3.10/dist-packages pip\n",
            "mdit-py-plugins                  0.4.0                 /usr/local/lib/python3.10/dist-packages pip\n",
            "mdurl                            0.1.2                 /usr/local/lib/python3.10/dist-packages pip\n",
            "miniKanren                       1.0.3                 /usr/local/lib/python3.10/dist-packages pip\n",
            "missingno                        0.5.2                 /usr/local/lib/python3.10/dist-packages pip\n",
            "mistune                          0.8.4                 /usr/local/lib/python3.10/dist-packages pip\n",
            "mizani                           0.9.2                 /usr/local/lib/python3.10/dist-packages pip\n",
            "mkl                              2023.2.0              /usr/local/lib/python3.10/dist-packages pip\n",
            "ml-dtypes                        0.2.0                 /usr/local/lib/python3.10/dist-packages pip\n",
            "mlxtend                          0.22.0                /usr/local/lib/python3.10/dist-packages pip\n",
            "more-itertools                   10.1.0                /usr/local/lib/python3.10/dist-packages pip\n",
            "moviepy                          1.0.3                 /usr/local/lib/python3.10/dist-packages pip\n",
            "mpmath                           1.3.0                 /usr/local/lib/python3.10/dist-packages pip\n",
            "msgpack                          1.0.5                 /usr/local/lib/python3.10/dist-packages pip\n",
            "multidict                        6.0.4                 /usr/local/lib/python3.10/dist-packages pip\n",
            "multipledispatch                 1.0.0                 /usr/local/lib/python3.10/dist-packages pip\n",
            "multitasking                     0.0.11                /usr/local/lib/python3.10/dist-packages pip\n",
            "murmurhash                       1.0.9                 /usr/local/lib/python3.10/dist-packages pip\n",
            "music21                          9.1.0                 /usr/local/lib/python3.10/dist-packages pip\n",
            "natsort                          8.4.0                 /usr/local/lib/python3.10/dist-packages pip\n",
            "nbclassic                        1.0.0                 /usr/local/lib/python3.10/dist-packages pip\n",
            "nbclient                         0.8.0                 /usr/local/lib/python3.10/dist-packages pip\n",
            "nbconvert                        6.5.4                 /usr/local/lib/python3.10/dist-packages pip\n",
            "nbformat                         5.9.2                 /usr/local/lib/python3.10/dist-packages pip\n",
            "nest-asyncio                     1.5.7                 /usr/local/lib/python3.10/dist-packages pip\n",
            "networkx                         3.1                   /usr/local/lib/python3.10/dist-packages pip\n",
            "nibabel                          4.0.2                 /usr/local/lib/python3.10/dist-packages pip\n",
            "nltk                             3.8.1                 /usr/local/lib/python3.10/dist-packages pip\n",
            "notebook                         6.5.5                 /usr/local/lib/python3.10/dist-packages pip\n",
            "notebook_shim                    0.2.3                 /usr/local/lib/python3.10/dist-packages pip\n",
            "numba                            0.56.4                /usr/local/lib/python3.10/dist-packages pip\n",
            "numexpr                          2.8.5                 /usr/local/lib/python3.10/dist-packages pip\n",
            "numpy                            1.23.5                /usr/local/lib/python3.10/dist-packages pip\n",
            "oauth2client                     4.1.3                 /usr/local/lib/python3.10/dist-packages pip\n",
            "oauthlib                         3.2.2                 /usr/local/lib/python3.10/dist-packages pip\n",
            "opencv-contrib-python            4.8.0.76              /usr/local/lib/python3.10/dist-packages pip\n",
            "opencv-python                    4.8.0.76              /usr/local/lib/python3.10/dist-packages pip\n",
            "opencv-python-headless           4.8.0.76              /usr/local/lib/python3.10/dist-packages pip\n",
            "openpyxl                         3.1.2                 /usr/local/lib/python3.10/dist-packages pip\n",
            "opt-einsum                       3.3.0                 /usr/local/lib/python3.10/dist-packages pip\n",
            "optax                            0.1.7                 /usr/local/lib/python3.10/dist-packages pip\n",
            "orbax-checkpoint                 0.3.5                 /usr/local/lib/python3.10/dist-packages pip\n",
            "osqp                             0.6.2.post8           /usr/local/lib/python3.10/dist-packages pip\n",
            "packaging                        23.1                  /usr/local/lib/python3.10/dist-packages pip\n",
            "pandas                           1.5.3                 /usr/local/lib/python3.10/dist-packages pip\n",
            "pandas-datareader                0.10.0                /usr/local/lib/python3.10/dist-packages pip\n",
            "pandas-gbq                       0.17.9                /usr/local/lib/python3.10/dist-packages pip\n",
            "pandocfilters                    1.5.0                 /usr/local/lib/python3.10/dist-packages pip\n",
            "panel                            1.2.1                 /usr/local/lib/python3.10/dist-packages pip\n",
            "param                            1.13.0                /usr/local/lib/python3.10/dist-packages pip\n",
            "parso                            0.8.3                 /usr/local/lib/python3.10/dist-packages pip\n",
            "partd                            1.4.0                 /usr/local/lib/python3.10/dist-packages pip\n",
            "pathlib                          1.0.1                 /usr/local/lib/python3.10/dist-packages pip\n",
            "pathy                            0.10.2                /usr/local/lib/python3.10/dist-packages pip\n",
            "patsy                            0.5.3                 /usr/local/lib/python3.10/dist-packages pip\n",
            "pexpect                          4.8.0                 /usr/local/lib/python3.10/dist-packages pip\n",
            "pickleshare                      0.7.5                 /usr/local/lib/python3.10/dist-packages pip\n",
            "Pillow                           9.4.0                 /usr/local/lib/python3.10/dist-packages pip\n",
            "pip                              23.1.2                /usr/local/lib/python3.10/dist-packages pip\n",
            "pip-tools                        6.13.0                /usr/local/lib/python3.10/dist-packages pip\n",
            "platformdirs                     3.10.0                /usr/local/lib/python3.10/dist-packages pip\n",
            "plotly                           5.15.0                /usr/local/lib/python3.10/dist-packages pip\n",
            "plotnine                         0.12.2                /usr/local/lib/python3.10/dist-packages pip\n",
            "pluggy                           1.2.0                 /usr/local/lib/python3.10/dist-packages pip\n",
            "polars                           0.17.3                /usr/local/lib/python3.10/dist-packages pip\n",
            "pooch                            1.7.0                 /usr/local/lib/python3.10/dist-packages pip\n",
            "portpicker                       1.5.2                 /usr/local/lib/python3.10/dist-packages pip\n",
            "prefetch-generator               1.0.3                 /usr/local/lib/python3.10/dist-packages pip\n",
            "preshed                          3.0.8                 /usr/local/lib/python3.10/dist-packages pip\n",
            "prettytable                      3.8.0                 /usr/local/lib/python3.10/dist-packages pip\n",
            "proglog                          0.1.10                /usr/local/lib/python3.10/dist-packages pip\n",
            "progressbar2                     4.2.0                 /usr/local/lib/python3.10/dist-packages pip\n",
            "prometheus-client                0.17.1                /usr/local/lib/python3.10/dist-packages pip\n",
            "promise                          2.3                   /usr/local/lib/python3.10/dist-packages pip\n",
            "prompt-toolkit                   3.0.39                /usr/local/lib/python3.10/dist-packages pip\n",
            "prophet                          1.1.4                 /usr/local/lib/python3.10/dist-packages pip\n",
            "proto-plus                       1.22.3                /usr/local/lib/python3.10/dist-packages pip\n",
            "protobuf                         3.20.3                /usr/local/lib/python3.10/dist-packages pip\n",
            "psutil                           5.9.5                 /usr/local/lib/python3.10/dist-packages pip\n",
            "psycopg2                         2.9.7                 /usr/local/lib/python3.10/dist-packages pip\n",
            "ptyprocess                       0.7.0                 /usr/local/lib/python3.10/dist-packages pip\n",
            "py-cpuinfo                       9.0.0                 /usr/local/lib/python3.10/dist-packages pip\n",
            "py4j                             0.10.9.7              /usr/local/lib/python3.10/dist-packages pip\n",
            "pyarrow                          9.0.0                 /usr/local/lib/python3.10/dist-packages pip\n",
            "pyasn1                           0.5.0                 /usr/local/lib/python3.10/dist-packages pip\n",
            "pyasn1-modules                   0.3.0                 /usr/local/lib/python3.10/dist-packages pip\n",
            "pycocotools                      2.0.7                 /usr/local/lib/python3.10/dist-packages pip\n",
            "pycparser                        2.21                  /usr/local/lib/python3.10/dist-packages pip\n",
            "pyct                             0.5.0                 /usr/local/lib/python3.10/dist-packages pip\n",
            "pydantic                         2.2.1                 /usr/local/lib/python3.10/dist-packages pip\n",
            "pydantic_core                    2.6.1                 /usr/local/lib/python3.10/dist-packages pip\n",
            "pydata-google-auth               1.8.2                 /usr/local/lib/python3.10/dist-packages pip\n",
            "pydot                            1.4.2                 /usr/local/lib/python3.10/dist-packages pip\n",
            "pydot-ng                         2.0.0                 /usr/local/lib/python3.10/dist-packages pip\n",
            "pydotplus                        2.0.2                 /usr/local/lib/python3.10/dist-packages pip\n",
            "PyDrive                          1.3.1                 /usr/local/lib/python3.10/dist-packages pip\n",
            "PyDrive2                         1.6.3                 /usr/local/lib/python3.10/dist-packages pip\n",
            "pyerfa                           2.0.0.3               /usr/local/lib/python3.10/dist-packages pip\n",
            "pygame                           2.5.1                 /usr/local/lib/python3.10/dist-packages pip\n",
            "Pygments                         2.16.1                /usr/local/lib/python3.10/dist-packages pip\n",
            "PyGObject                        3.42.1                /usr/lib/python3/dist-packages\n",
            "PyJWT                            2.3.0                 /usr/lib/python3/dist-packages\n",
            "pymc                             5.7.2                 /usr/local/lib/python3.10/dist-packages pip\n",
            "PyMeeus                          0.5.12                /usr/local/lib/python3.10/dist-packages pip\n",
            "pymystem3                        0.2.0                 /usr/local/lib/python3.10/dist-packages pip\n",
            "PyOpenGL                         3.1.7                 /usr/local/lib/python3.10/dist-packages pip\n",
            "pyOpenSSL                        23.2.0                /usr/local/lib/python3.10/dist-packages pip\n",
            "pyparsing                        3.1.1                 /usr/local/lib/python3.10/dist-packages pip\n",
            "pyproj                           3.6.0                 /usr/local/lib/python3.10/dist-packages pip\n",
            "pyproject_hooks                  1.0.0                 /usr/local/lib/python3.10/dist-packages pip\n",
            "PySocks                          1.7.1                 /usr/local/lib/python3.10/dist-packages pip\n",
            "pytensor                         2.14.2                /usr/local/lib/python3.10/dist-packages pip\n",
            "pytest                           7.4.0                 /usr/local/lib/python3.10/dist-packages pip\n",
            "python-apt                       0.0.0                 /usr/local/lib/python3.10/dist-packages\n",
            "python-dateutil                  2.8.2                 /usr/local/lib/python3.10/dist-packages pip\n",
            "python-louvain                   0.16                  /usr/local/lib/python3.10/dist-packages pip\n",
            "python-slugify                   8.0.1                 /usr/local/lib/python3.10/dist-packages pip\n",
            "python-utils                     3.7.0                 /usr/local/lib/python3.10/dist-packages pip\n",
            "pytz                             2023.3                /usr/local/lib/python3.10/dist-packages pip\n",
            "pyviz_comms                      3.0.0                 /usr/local/lib/python3.10/dist-packages pip\n",
            "PyWavelets                       1.4.1                 /usr/local/lib/python3.10/dist-packages pip\n",
            "PyYAML                           6.0.1                 /usr/local/lib/python3.10/dist-packages pip\n",
            "pyzmq                            23.2.1                /usr/local/lib/python3.10/dist-packages pip\n",
            "qdldl                            0.1.7.post0           /usr/local/lib/python3.10/dist-packages pip\n",
            "qudida                           0.0.4                 /usr/local/lib/python3.10/dist-packages pip\n",
            "referencing                      0.30.2                /usr/local/lib/python3.10/dist-packages pip\n",
            "regex                            2023.6.3              /usr/local/lib/python3.10/dist-packages pip\n",
            "requests                         2.31.0                /usr/local/lib/python3.10/dist-packages pip\n",
            "requests-oauthlib                1.3.1                 /usr/local/lib/python3.10/dist-packages pip\n",
            "requirements-parser              0.5.0                 /usr/local/lib/python3.10/dist-packages pip\n",
            "rich                             13.5.2                /usr/local/lib/python3.10/dist-packages pip\n",
            "rpds-py                          0.9.2                 /usr/local/lib/python3.10/dist-packages pip\n",
            "rpy2                             3.4.2                 /usr/local/lib/python3.10/dist-packages pip\n",
            "rsa                              4.9                   /usr/local/lib/python3.10/dist-packages pip\n",
            "scikit-image                     0.19.3                /usr/local/lib/python3.10/dist-packages pip\n",
            "scikit-learn                     1.2.2                 /usr/local/lib/python3.10/dist-packages pip\n",
            "scipy                            1.10.1                /usr/local/lib/python3.10/dist-packages pip\n",
            "scs                              3.2.3                 /usr/local/lib/python3.10/dist-packages pip\n",
            "seaborn                          0.12.2                /usr/local/lib/python3.10/dist-packages pip\n",
            "SecretStorage                    3.3.1                 /usr/lib/python3/dist-packages\n",
            "Send2Trash                       1.8.2                 /usr/local/lib/python3.10/dist-packages pip\n",
            "setuptools                       67.7.2                /usr/local/lib/python3.10/dist-packages pip\n",
            "shapely                          2.0.1                 /usr/local/lib/python3.10/dist-packages pip\n",
            "six                              1.16.0                /usr/local/lib/python3.10/dist-packages pip\n",
            "sklearn-pandas                   2.2.0                 /usr/local/lib/python3.10/dist-packages pip\n",
            "smart-open                       6.3.0                 /usr/local/lib/python3.10/dist-packages pip\n",
            "sniffio                          1.3.0                 /usr/local/lib/python3.10/dist-packages pip\n",
            "snowballstemmer                  2.2.0                 /usr/local/lib/python3.10/dist-packages pip\n",
            "sortedcontainers                 2.4.0                 /usr/local/lib/python3.10/dist-packages pip\n",
            "soundfile                        0.12.1                /usr/local/lib/python3.10/dist-packages pip\n",
            "soupsieve                        2.4.1                 /usr/local/lib/python3.10/dist-packages pip\n",
            "soxr                             0.3.6                 /usr/local/lib/python3.10/dist-packages pip\n",
            "spacy                            3.6.1                 /usr/local/lib/python3.10/dist-packages pip\n",
            "spacy-legacy                     3.0.12                /usr/local/lib/python3.10/dist-packages pip\n",
            "spacy-loggers                    1.0.4                 /usr/local/lib/python3.10/dist-packages pip\n",
            "Sphinx                           5.0.2                 /usr/local/lib/python3.10/dist-packages pip\n",
            "sphinxcontrib-applehelp          1.0.7                 /usr/local/lib/python3.10/dist-packages pip\n",
            "sphinxcontrib-devhelp            1.0.5                 /usr/local/lib/python3.10/dist-packages pip\n",
            "sphinxcontrib-htmlhelp           2.0.4                 /usr/local/lib/python3.10/dist-packages pip\n",
            "sphinxcontrib-jsmath             1.0.1                 /usr/local/lib/python3.10/dist-packages pip\n",
            "sphinxcontrib-qthelp             1.0.6                 /usr/local/lib/python3.10/dist-packages pip\n",
            "sphinxcontrib-serializinghtml    1.1.9                 /usr/local/lib/python3.10/dist-packages pip\n",
            "SQLAlchemy                       2.0.20                /usr/local/lib/python3.10/dist-packages pip\n",
            "sqlparse                         0.4.4                 /usr/local/lib/python3.10/dist-packages pip\n",
            "srsly                            2.4.7                 /usr/local/lib/python3.10/dist-packages pip\n",
            "statsmodels                      0.14.0                /usr/local/lib/python3.10/dist-packages pip\n",
            "sympy                            1.12                  /usr/local/lib/python3.10/dist-packages pip\n",
            "tables                           3.8.0                 /usr/local/lib/python3.10/dist-packages pip\n",
            "tabulate                         0.9.0                 /usr/local/lib/python3.10/dist-packages pip\n",
            "tbb                              2021.10.0             /usr/local/lib/python3.10/dist-packages pip\n",
            "tblib                            2.0.0                 /usr/local/lib/python3.10/dist-packages pip\n",
            "tenacity                         8.2.3                 /usr/local/lib/python3.10/dist-packages pip\n",
            "tensorboard                      2.12.3                /usr/local/lib/python3.10/dist-packages pip\n",
            "tensorboard-data-server          0.7.1                 /usr/local/lib/python3.10/dist-packages pip\n",
            "tensorflow                       2.12.0                /usr/local/lib/python3.10/dist-packages pip\n",
            "tensorflow-datasets              4.9.2                 /usr/local/lib/python3.10/dist-packages pip\n",
            "tensorflow-estimator             2.12.0                /usr/local/lib/python3.10/dist-packages pip\n",
            "tensorflow-gcs-config            2.12.0                /usr/local/lib/python3.10/dist-packages pip\n",
            "tensorflow-hub                   0.14.0                /usr/local/lib/python3.10/dist-packages pip\n",
            "tensorflow-io-gcs-filesystem     0.33.0                /usr/local/lib/python3.10/dist-packages pip\n",
            "tensorflow-metadata              1.14.0                /usr/local/lib/python3.10/dist-packages pip\n",
            "tensorflow-probability           0.20.1                /usr/local/lib/python3.10/dist-packages pip\n",
            "tensorstore                      0.1.41                /usr/local/lib/python3.10/dist-packages pip\n",
            "termcolor                        2.3.0                 /usr/local/lib/python3.10/dist-packages pip\n",
            "terminado                        0.17.1                /usr/local/lib/python3.10/dist-packages pip\n",
            "text-unidecode                   1.3                   /usr/local/lib/python3.10/dist-packages pip\n",
            "textblob                         0.17.1                /usr/local/lib/python3.10/dist-packages pip\n",
            "tf-slim                          1.1.0                 /usr/local/lib/python3.10/dist-packages pip\n",
            "thinc                            8.1.12                /usr/local/lib/python3.10/dist-packages pip\n",
            "threadpoolctl                    3.2.0                 /usr/local/lib/python3.10/dist-packages pip\n",
            "tifffile                         2023.8.12             /usr/local/lib/python3.10/dist-packages pip\n",
            "tinycss2                         1.2.1                 /usr/local/lib/python3.10/dist-packages pip\n",
            "toml                             0.10.2                /usr/local/lib/python3.10/dist-packages pip\n",
            "tomli                            2.0.1                 /usr/local/lib/python3.10/dist-packages pip\n",
            "toolz                            0.12.0                /usr/local/lib/python3.10/dist-packages pip\n",
            "torch                            2.0.1+cu118           /usr/local/lib/python3.10/dist-packages pip\n",
            "torchaudio                       2.0.2+cu118           /usr/local/lib/python3.10/dist-packages pip\n",
            "torchdata                        0.6.1                 /usr/local/lib/python3.10/dist-packages pip\n",
            "torchsummary                     1.5.1                 /usr/local/lib/python3.10/dist-packages pip\n",
            "torchtext                        0.15.2                /usr/local/lib/python3.10/dist-packages pip\n",
            "torchvision                      0.15.2+cu118          /usr/local/lib/python3.10/dist-packages pip\n",
            "tornado                          6.3.2                 /usr/local/lib/python3.10/dist-packages pip\n",
            "tqdm                             4.66.1                /usr/local/lib/python3.10/dist-packages pip\n",
            "traitlets                        5.7.1                 /usr/local/lib/python3.10/dist-packages pip\n",
            "triton                           2.0.0                 /usr/local/lib/python3.10/dist-packages pip\n",
            "tweepy                           4.13.0                /usr/local/lib/python3.10/dist-packages pip\n",
            "typer                            0.9.0                 /usr/local/lib/python3.10/dist-packages pip\n",
            "types-setuptools                 68.1.0.0              /usr/local/lib/python3.10/dist-packages pip\n",
            "typing_extensions                4.7.1                 /usr/local/lib/python3.10/dist-packages pip\n",
            "tzlocal                          5.0.1                 /usr/local/lib/python3.10/dist-packages pip\n",
            "uc-micro-py                      1.0.2                 /usr/local/lib/python3.10/dist-packages pip\n",
            "uritemplate                      4.1.1                 /usr/local/lib/python3.10/dist-packages pip\n",
            "urllib3                          2.0.4                 /usr/local/lib/python3.10/dist-packages pip\n",
            "vega-datasets                    0.9.0                 /usr/local/lib/python3.10/dist-packages pip\n",
            "wadllib                          1.3.6                 /usr/lib/python3/dist-packages\n",
            "wasabi                           1.1.2                 /usr/local/lib/python3.10/dist-packages pip\n",
            "wcwidth                          0.2.6                 /usr/local/lib/python3.10/dist-packages pip\n",
            "webcolors                        1.13                  /usr/local/lib/python3.10/dist-packages pip\n",
            "webencodings                     0.5.1                 /usr/local/lib/python3.10/dist-packages pip\n",
            "websocket-client                 1.6.2                 /usr/local/lib/python3.10/dist-packages pip\n",
            "Werkzeug                         2.3.7                 /usr/local/lib/python3.10/dist-packages pip\n",
            "wheel                            0.41.2                /usr/local/lib/python3.10/dist-packages pip\n",
            "widgetsnbextension               3.6.5                 /usr/local/lib/python3.10/dist-packages pip\n",
            "wordcloud                        1.9.2                 /usr/local/lib/python3.10/dist-packages pip\n",
            "wrapt                            1.14.1                /usr/local/lib/python3.10/dist-packages pip\n",
            "xarray                           2023.7.0              /usr/local/lib/python3.10/dist-packages pip\n",
            "xarray-einstats                  0.6.0                 /usr/local/lib/python3.10/dist-packages pip\n",
            "xgboost                          1.7.6                 /usr/local/lib/python3.10/dist-packages pip\n",
            "xlrd                             2.0.1                 /usr/local/lib/python3.10/dist-packages pip\n",
            "xyzservices                      2023.7.0              /usr/local/lib/python3.10/dist-packages pip\n",
            "yarl                             1.9.2                 /usr/local/lib/python3.10/dist-packages pip\n",
            "yellowbrick                      1.5                   /usr/local/lib/python3.10/dist-packages pip\n",
            "yfinance                         0.2.28                /usr/local/lib/python3.10/dist-packages pip\n",
            "zict                             3.0.0                 /usr/local/lib/python3.10/dist-packages pip\n",
            "zipp                             3.16.2                /usr/local/lib/python3.10/dist-packages pip\n"
          ]
        }
      ],
      "source": [
        "#List of pre installed packages in colab\n",
        "!pip list -v"
      ]
    },
    {
      "cell_type": "code",
      "source": [
        "#Mount Google Drive\n",
        "from google.colab import drive\n",
        "drive.mount('/content/drive')"
      ],
      "metadata": {
        "colab": {
          "base_uri": "https://localhost:8080/"
        },
        "id": "1YjcDgw3yuvf",
        "outputId": "15ae6ad3-8b30-4aa0-bd7d-4f50ca0b74c9"
      },
      "execution_count": null,
      "outputs": [
        {
          "output_type": "stream",
          "name": "stdout",
          "text": [
            "Mounted at /content/drive\n"
          ]
        }
      ]
    },
    {
      "cell_type": "code",
      "source": [
        "#Download java\n",
        "!apt-get install openjdk-8-jdk-headless -qq > /dev/null"
      ],
      "metadata": {
        "id": "V-ZeGbU7Z6H2"
      },
      "execution_count": null,
      "outputs": []
    },
    {
      "cell_type": "code",
      "source": [
        "!wget https://dlcdn.apache.org/spark/spark-3.4.1/spark-3.4.1-bin-hadoop3.tgz"
      ],
      "metadata": {
        "colab": {
          "base_uri": "https://localhost:8080/"
        },
        "id": "AOGcXCnwaSV8",
        "outputId": "d09bff0c-0368-401f-8191-57e62aac26a4"
      },
      "execution_count": null,
      "outputs": [
        {
          "output_type": "stream",
          "name": "stdout",
          "text": [
            "--2023-08-29 08:30:57--  https://dlcdn.apache.org/spark/spark-3.4.1/spark-3.4.1-bin-hadoop3.tgz\n",
            "Resolving dlcdn.apache.org (dlcdn.apache.org)... 151.101.2.132, 2a04:4e42::644\n",
            "Connecting to dlcdn.apache.org (dlcdn.apache.org)|151.101.2.132|:443... connected.\n",
            "HTTP request sent, awaiting response... 200 OK\n",
            "Length: 388341449 (370M) [application/x-gzip]\n",
            "Saving to: ‘spark-3.4.1-bin-hadoop3.tgz’\n",
            "\n",
            "spark-3.4.1-bin-had 100%[===================>] 370.35M   215MB/s    in 1.7s    \n",
            "\n",
            "2023-08-29 08:30:59 (215 MB/s) - ‘spark-3.4.1-bin-hadoop3.tgz’ saved [388341449/388341449]\n",
            "\n"
          ]
        }
      ]
    },
    {
      "cell_type": "code",
      "source": [
        "!tar xf spark-3.4.1-bin-hadoop3.tgz"
      ],
      "metadata": {
        "id": "ISTl0O0matA5"
      },
      "execution_count": null,
      "outputs": []
    },
    {
      "cell_type": "code",
      "source": [
        "!pip install -q findspark"
      ],
      "metadata": {
        "id": "ZPO6eaMHa50y"
      },
      "execution_count": null,
      "outputs": []
    },
    {
      "cell_type": "markdown",
      "source": [
        "Set Environment"
      ],
      "metadata": {
        "id": "U8_k7wa1bTsA"
      }
    },
    {
      "cell_type": "code",
      "source": [
        "import os"
      ],
      "metadata": {
        "id": "nuW3HXH5bVak"
      },
      "execution_count": null,
      "outputs": []
    },
    {
      "cell_type": "code",
      "source": [
        "os.environ[\"JAVA_HOME\"]='/usr/lib/jvm/java-8-openjdk-amd64'\n",
        "os.environ[\"SPARK_HOME\"]='/content/spark-3.4.1-bin-hadoop3'"
      ],
      "metadata": {
        "id": "1wsCEZjZbW0r"
      },
      "execution_count": null,
      "outputs": []
    },
    {
      "cell_type": "code",
      "source": [
        "import findspark\n",
        "findspark.init()"
      ],
      "metadata": {
        "id": "XsYt6icBcEsk"
      },
      "execution_count": null,
      "outputs": []
    },
    {
      "cell_type": "code",
      "source": [
        "findspark.find()"
      ],
      "metadata": {
        "colab": {
          "base_uri": "https://localhost:8080/",
          "height": 35
        },
        "id": "HWw_2f_Ycji5",
        "outputId": "ff857bae-ab0c-4018-9d14-833c14d200b3"
      },
      "execution_count": null,
      "outputs": [
        {
          "output_type": "execute_result",
          "data": {
            "text/plain": [
              "'/content/spark-3.4.1-bin-hadoop3'"
            ],
            "application/vnd.google.colaboratory.intrinsic+json": {
              "type": "string"
            }
          },
          "metadata": {},
          "execution_count": 13
        }
      ]
    },
    {
      "cell_type": "code",
      "source": [
        "from pyspark.sql import SparkSession\n"
      ],
      "metadata": {
        "id": "8UhVlr4xctv8"
      },
      "execution_count": null,
      "outputs": []
    },
    {
      "cell_type": "code",
      "source": [
        "spark=SparkSession.builder \\\n",
        ".master(\"local\") \\\n",
        ".appName('Colab') \\\n",
        ".config('spark.ui.port', '4050') \\\n",
        ".getOrCreate()"
      ],
      "metadata": {
        "id": "C85Vium9dVWp"
      },
      "execution_count": null,
      "outputs": []
    },
    {
      "cell_type": "code",
      "source": [
        "spark"
      ],
      "metadata": {
        "colab": {
          "base_uri": "https://localhost:8080/",
          "height": 219
        },
        "id": "0_-XjJH7eSJd",
        "outputId": "2a50d112-8207-4e9b-c720-ccbd74a5b702"
      },
      "execution_count": null,
      "outputs": [
        {
          "output_type": "execute_result",
          "data": {
            "text/plain": [
              "<pyspark.sql.session.SparkSession at 0x7b874f8ff970>"
            ],
            "text/html": [
              "\n",
              "            <div>\n",
              "                <p><b>SparkSession - in-memory</b></p>\n",
              "                \n",
              "        <div>\n",
              "            <p><b>SparkContext</b></p>\n",
              "\n",
              "            <p><a href=\"http://cfb8bb014a4d:4050\">Spark UI</a></p>\n",
              "\n",
              "            <dl>\n",
              "              <dt>Version</dt>\n",
              "                <dd><code>v3.4.1</code></dd>\n",
              "              <dt>Master</dt>\n",
              "                <dd><code>local</code></dd>\n",
              "              <dt>AppName</dt>\n",
              "                <dd><code>Colab</code></dd>\n",
              "            </dl>\n",
              "        </div>\n",
              "        \n",
              "            </div>\n",
              "        "
            ]
          },
          "metadata": {},
          "execution_count": 20
        }
      ]
    },
    {
      "cell_type": "code",
      "source": [
        "from google.colab import drive\n",
        "drive.mount('/content/drive', force_remount=True)"
      ],
      "metadata": {
        "colab": {
          "base_uri": "https://localhost:8080/"
        },
        "id": "HrY63CNyf1vA",
        "outputId": "c0e05842-680a-4835-cc9c-acaa341af186"
      },
      "execution_count": null,
      "outputs": [
        {
          "output_type": "stream",
          "name": "stdout",
          "text": [
            "Mounted at /content/drive\n"
          ]
        }
      ]
    },
    {
      "cell_type": "code",
      "source": [
        "#upload a file from local drive\n",
        "from google.colab import files\n",
        "data=files.upload()"
      ],
      "metadata": {
        "colab": {
          "base_uri": "https://localhost:8080/",
          "height": 394
        },
        "id": "vHahB-FVx4SD",
        "outputId": "c3ea8f6b-3c6e-49eb-e3ea-3d48b88e6742"
      },
      "execution_count": null,
      "outputs": [
        {
          "output_type": "display_data",
          "data": {
            "text/plain": [
              "<IPython.core.display.HTML object>"
            ],
            "text/html": [
              "\n",
              "     <input type=\"file\" id=\"files-994242da-ebd0-44cf-973a-1f05b48e0657\" name=\"files[]\" multiple disabled\n",
              "        style=\"border:none\" />\n",
              "     <output id=\"result-994242da-ebd0-44cf-973a-1f05b48e0657\">\n",
              "      Upload widget is only available when the cell has been executed in the\n",
              "      current browser session. Please rerun this cell to enable.\n",
              "      </output>\n",
              "      <script>// Copyright 2017 Google LLC\n",
              "//\n",
              "// Licensed under the Apache License, Version 2.0 (the \"License\");\n",
              "// you may not use this file except in compliance with the License.\n",
              "// You may obtain a copy of the License at\n",
              "//\n",
              "//      http://www.apache.org/licenses/LICENSE-2.0\n",
              "//\n",
              "// Unless required by applicable law or agreed to in writing, software\n",
              "// distributed under the License is distributed on an \"AS IS\" BASIS,\n",
              "// WITHOUT WARRANTIES OR CONDITIONS OF ANY KIND, either express or implied.\n",
              "// See the License for the specific language governing permissions and\n",
              "// limitations under the License.\n",
              "\n",
              "/**\n",
              " * @fileoverview Helpers for google.colab Python module.\n",
              " */\n",
              "(function(scope) {\n",
              "function span(text, styleAttributes = {}) {\n",
              "  const element = document.createElement('span');\n",
              "  element.textContent = text;\n",
              "  for (const key of Object.keys(styleAttributes)) {\n",
              "    element.style[key] = styleAttributes[key];\n",
              "  }\n",
              "  return element;\n",
              "}\n",
              "\n",
              "// Max number of bytes which will be uploaded at a time.\n",
              "const MAX_PAYLOAD_SIZE = 100 * 1024;\n",
              "\n",
              "function _uploadFiles(inputId, outputId) {\n",
              "  const steps = uploadFilesStep(inputId, outputId);\n",
              "  const outputElement = document.getElementById(outputId);\n",
              "  // Cache steps on the outputElement to make it available for the next call\n",
              "  // to uploadFilesContinue from Python.\n",
              "  outputElement.steps = steps;\n",
              "\n",
              "  return _uploadFilesContinue(outputId);\n",
              "}\n",
              "\n",
              "// This is roughly an async generator (not supported in the browser yet),\n",
              "// where there are multiple asynchronous steps and the Python side is going\n",
              "// to poll for completion of each step.\n",
              "// This uses a Promise to block the python side on completion of each step,\n",
              "// then passes the result of the previous step as the input to the next step.\n",
              "function _uploadFilesContinue(outputId) {\n",
              "  const outputElement = document.getElementById(outputId);\n",
              "  const steps = outputElement.steps;\n",
              "\n",
              "  const next = steps.next(outputElement.lastPromiseValue);\n",
              "  return Promise.resolve(next.value.promise).then((value) => {\n",
              "    // Cache the last promise value to make it available to the next\n",
              "    // step of the generator.\n",
              "    outputElement.lastPromiseValue = value;\n",
              "    return next.value.response;\n",
              "  });\n",
              "}\n",
              "\n",
              "/**\n",
              " * Generator function which is called between each async step of the upload\n",
              " * process.\n",
              " * @param {string} inputId Element ID of the input file picker element.\n",
              " * @param {string} outputId Element ID of the output display.\n",
              " * @return {!Iterable<!Object>} Iterable of next steps.\n",
              " */\n",
              "function* uploadFilesStep(inputId, outputId) {\n",
              "  const inputElement = document.getElementById(inputId);\n",
              "  inputElement.disabled = false;\n",
              "\n",
              "  const outputElement = document.getElementById(outputId);\n",
              "  outputElement.innerHTML = '';\n",
              "\n",
              "  const pickedPromise = new Promise((resolve) => {\n",
              "    inputElement.addEventListener('change', (e) => {\n",
              "      resolve(e.target.files);\n",
              "    });\n",
              "  });\n",
              "\n",
              "  const cancel = document.createElement('button');\n",
              "  inputElement.parentElement.appendChild(cancel);\n",
              "  cancel.textContent = 'Cancel upload';\n",
              "  const cancelPromise = new Promise((resolve) => {\n",
              "    cancel.onclick = () => {\n",
              "      resolve(null);\n",
              "    };\n",
              "  });\n",
              "\n",
              "  // Wait for the user to pick the files.\n",
              "  const files = yield {\n",
              "    promise: Promise.race([pickedPromise, cancelPromise]),\n",
              "    response: {\n",
              "      action: 'starting',\n",
              "    }\n",
              "  };\n",
              "\n",
              "  cancel.remove();\n",
              "\n",
              "  // Disable the input element since further picks are not allowed.\n",
              "  inputElement.disabled = true;\n",
              "\n",
              "  if (!files) {\n",
              "    return {\n",
              "      response: {\n",
              "        action: 'complete',\n",
              "      }\n",
              "    };\n",
              "  }\n",
              "\n",
              "  for (const file of files) {\n",
              "    const li = document.createElement('li');\n",
              "    li.append(span(file.name, {fontWeight: 'bold'}));\n",
              "    li.append(span(\n",
              "        `(${file.type || 'n/a'}) - ${file.size} bytes, ` +\n",
              "        `last modified: ${\n",
              "            file.lastModifiedDate ? file.lastModifiedDate.toLocaleDateString() :\n",
              "                                    'n/a'} - `));\n",
              "    const percent = span('0% done');\n",
              "    li.appendChild(percent);\n",
              "\n",
              "    outputElement.appendChild(li);\n",
              "\n",
              "    const fileDataPromise = new Promise((resolve) => {\n",
              "      const reader = new FileReader();\n",
              "      reader.onload = (e) => {\n",
              "        resolve(e.target.result);\n",
              "      };\n",
              "      reader.readAsArrayBuffer(file);\n",
              "    });\n",
              "    // Wait for the data to be ready.\n",
              "    let fileData = yield {\n",
              "      promise: fileDataPromise,\n",
              "      response: {\n",
              "        action: 'continue',\n",
              "      }\n",
              "    };\n",
              "\n",
              "    // Use a chunked sending to avoid message size limits. See b/62115660.\n",
              "    let position = 0;\n",
              "    do {\n",
              "      const length = Math.min(fileData.byteLength - position, MAX_PAYLOAD_SIZE);\n",
              "      const chunk = new Uint8Array(fileData, position, length);\n",
              "      position += length;\n",
              "\n",
              "      const base64 = btoa(String.fromCharCode.apply(null, chunk));\n",
              "      yield {\n",
              "        response: {\n",
              "          action: 'append',\n",
              "          file: file.name,\n",
              "          data: base64,\n",
              "        },\n",
              "      };\n",
              "\n",
              "      let percentDone = fileData.byteLength === 0 ?\n",
              "          100 :\n",
              "          Math.round((position / fileData.byteLength) * 100);\n",
              "      percent.textContent = `${percentDone}% done`;\n",
              "\n",
              "    } while (position < fileData.byteLength);\n",
              "  }\n",
              "\n",
              "  // All done.\n",
              "  yield {\n",
              "    response: {\n",
              "      action: 'complete',\n",
              "    }\n",
              "  };\n",
              "}\n",
              "\n",
              "scope.google = scope.google || {};\n",
              "scope.google.colab = scope.google.colab || {};\n",
              "scope.google.colab._files = {\n",
              "  _uploadFiles,\n",
              "  _uploadFilesContinue,\n",
              "};\n",
              "})(self);\n",
              "</script> "
            ]
          },
          "metadata": {}
        },
        {
          "output_type": "error",
          "ename": "KeyboardInterrupt",
          "evalue": "ignored",
          "traceback": [
            "\u001b[0;31m---------------------------------------------------------------------------\u001b[0m",
            "\u001b[0;31mKeyboardInterrupt\u001b[0m                         Traceback (most recent call last)",
            "\u001b[0;32m<ipython-input-33-64a395e2b776>\u001b[0m in \u001b[0;36m<cell line: 3>\u001b[0;34m()\u001b[0m\n\u001b[1;32m      1\u001b[0m \u001b[0;31m#upload a file from local drive\u001b[0m\u001b[0;34m\u001b[0m\u001b[0;34m\u001b[0m\u001b[0m\n\u001b[1;32m      2\u001b[0m \u001b[0;32mfrom\u001b[0m \u001b[0mgoogle\u001b[0m\u001b[0;34m.\u001b[0m\u001b[0mcolab\u001b[0m \u001b[0;32mimport\u001b[0m \u001b[0mfiles\u001b[0m\u001b[0;34m\u001b[0m\u001b[0;34m\u001b[0m\u001b[0m\n\u001b[0;32m----> 3\u001b[0;31m \u001b[0mdata\u001b[0m\u001b[0;34m=\u001b[0m\u001b[0mfiles\u001b[0m\u001b[0;34m.\u001b[0m\u001b[0mupload\u001b[0m\u001b[0;34m(\u001b[0m\u001b[0;34m)\u001b[0m\u001b[0;34m\u001b[0m\u001b[0;34m\u001b[0m\u001b[0m\n\u001b[0m",
            "\u001b[0;32m/usr/local/lib/python3.10/dist-packages/google/colab/files.py\u001b[0m in \u001b[0;36mupload\u001b[0;34m()\u001b[0m\n\u001b[1;32m     67\u001b[0m   \"\"\"\n\u001b[1;32m     68\u001b[0m \u001b[0;34m\u001b[0m\u001b[0m\n\u001b[0;32m---> 69\u001b[0;31m   \u001b[0muploaded_files\u001b[0m \u001b[0;34m=\u001b[0m \u001b[0m_upload_files\u001b[0m\u001b[0;34m(\u001b[0m\u001b[0mmultiple\u001b[0m\u001b[0;34m=\u001b[0m\u001b[0;32mTrue\u001b[0m\u001b[0;34m)\u001b[0m\u001b[0;34m\u001b[0m\u001b[0;34m\u001b[0m\u001b[0m\n\u001b[0m\u001b[1;32m     70\u001b[0m   \u001b[0;31m# Mapping from original filename to filename as saved locally.\u001b[0m\u001b[0;34m\u001b[0m\u001b[0;34m\u001b[0m\u001b[0m\n\u001b[1;32m     71\u001b[0m   \u001b[0mlocal_filenames\u001b[0m \u001b[0;34m=\u001b[0m \u001b[0mdict\u001b[0m\u001b[0;34m(\u001b[0m\u001b[0;34m)\u001b[0m\u001b[0;34m\u001b[0m\u001b[0;34m\u001b[0m\u001b[0m\n",
            "\u001b[0;32m/usr/local/lib/python3.10/dist-packages/google/colab/files.py\u001b[0m in \u001b[0;36m_upload_files\u001b[0;34m(multiple)\u001b[0m\n\u001b[1;32m    162\u001b[0m \u001b[0;34m\u001b[0m\u001b[0m\n\u001b[1;32m    163\u001b[0m   \u001b[0;32mwhile\u001b[0m \u001b[0mresult\u001b[0m\u001b[0;34m[\u001b[0m\u001b[0;34m'action'\u001b[0m\u001b[0;34m]\u001b[0m \u001b[0;34m!=\u001b[0m \u001b[0;34m'complete'\u001b[0m\u001b[0;34m:\u001b[0m\u001b[0;34m\u001b[0m\u001b[0;34m\u001b[0m\u001b[0m\n\u001b[0;32m--> 164\u001b[0;31m     result = _output.eval_js(\n\u001b[0m\u001b[1;32m    165\u001b[0m         'google.colab._files._uploadFilesContinue(\"{output_id}\")'.format(\n\u001b[1;32m    166\u001b[0m             \u001b[0moutput_id\u001b[0m\u001b[0;34m=\u001b[0m\u001b[0moutput_id\u001b[0m\u001b[0;34m\u001b[0m\u001b[0;34m\u001b[0m\u001b[0m\n",
            "\u001b[0;32m/usr/local/lib/python3.10/dist-packages/google/colab/output/_js.py\u001b[0m in \u001b[0;36meval_js\u001b[0;34m(script, ignore_result, timeout_sec)\u001b[0m\n\u001b[1;32m     38\u001b[0m   \u001b[0;32mif\u001b[0m \u001b[0mignore_result\u001b[0m\u001b[0;34m:\u001b[0m\u001b[0;34m\u001b[0m\u001b[0;34m\u001b[0m\u001b[0m\n\u001b[1;32m     39\u001b[0m     \u001b[0;32mreturn\u001b[0m\u001b[0;34m\u001b[0m\u001b[0;34m\u001b[0m\u001b[0m\n\u001b[0;32m---> 40\u001b[0;31m   \u001b[0;32mreturn\u001b[0m \u001b[0m_message\u001b[0m\u001b[0;34m.\u001b[0m\u001b[0mread_reply_from_input\u001b[0m\u001b[0;34m(\u001b[0m\u001b[0mrequest_id\u001b[0m\u001b[0;34m,\u001b[0m \u001b[0mtimeout_sec\u001b[0m\u001b[0;34m)\u001b[0m\u001b[0;34m\u001b[0m\u001b[0;34m\u001b[0m\u001b[0m\n\u001b[0m\u001b[1;32m     41\u001b[0m \u001b[0;34m\u001b[0m\u001b[0m\n\u001b[1;32m     42\u001b[0m \u001b[0;34m\u001b[0m\u001b[0m\n",
            "\u001b[0;32m/usr/local/lib/python3.10/dist-packages/google/colab/_message.py\u001b[0m in \u001b[0;36mread_reply_from_input\u001b[0;34m(message_id, timeout_sec)\u001b[0m\n\u001b[1;32m     94\u001b[0m     \u001b[0mreply\u001b[0m \u001b[0;34m=\u001b[0m \u001b[0m_read_next_input_message\u001b[0m\u001b[0;34m(\u001b[0m\u001b[0;34m)\u001b[0m\u001b[0;34m\u001b[0m\u001b[0;34m\u001b[0m\u001b[0m\n\u001b[1;32m     95\u001b[0m     \u001b[0;32mif\u001b[0m \u001b[0mreply\u001b[0m \u001b[0;34m==\u001b[0m \u001b[0m_NOT_READY\u001b[0m \u001b[0;32mor\u001b[0m \u001b[0;32mnot\u001b[0m \u001b[0misinstance\u001b[0m\u001b[0;34m(\u001b[0m\u001b[0mreply\u001b[0m\u001b[0;34m,\u001b[0m \u001b[0mdict\u001b[0m\u001b[0;34m)\u001b[0m\u001b[0;34m:\u001b[0m\u001b[0;34m\u001b[0m\u001b[0;34m\u001b[0m\u001b[0m\n\u001b[0;32m---> 96\u001b[0;31m       \u001b[0mtime\u001b[0m\u001b[0;34m.\u001b[0m\u001b[0msleep\u001b[0m\u001b[0;34m(\u001b[0m\u001b[0;36m0.025\u001b[0m\u001b[0;34m)\u001b[0m\u001b[0;34m\u001b[0m\u001b[0;34m\u001b[0m\u001b[0m\n\u001b[0m\u001b[1;32m     97\u001b[0m       \u001b[0;32mcontinue\u001b[0m\u001b[0;34m\u001b[0m\u001b[0;34m\u001b[0m\u001b[0m\n\u001b[1;32m     98\u001b[0m     if (\n",
            "\u001b[0;31mKeyboardInterrupt\u001b[0m: "
          ]
        }
      ]
    },
    {
      "cell_type": "code",
      "source": [
        "import io\n",
        "import pandas as pd\n",
        "df=pd.read_csv(io.BytesIO(data('crime.csv')))\n",
        "df.head()"
      ],
      "metadata": {
        "colab": {
          "base_uri": "https://localhost:8080/",
          "height": 227
        },
        "id": "cPVa3-so1CO0",
        "outputId": "84c6c019-c773-4711-e4f6-2ca0f4b608b0"
      },
      "execution_count": null,
      "outputs": [
        {
          "output_type": "error",
          "ename": "TypeError",
          "evalue": "ignored",
          "traceback": [
            "\u001b[0;31m---------------------------------------------------------------------------\u001b[0m",
            "\u001b[0;31mTypeError\u001b[0m                                 Traceback (most recent call last)",
            "\u001b[0;32m<ipython-input-32-f454b57daed3>\u001b[0m in \u001b[0;36m<cell line: 3>\u001b[0;34m()\u001b[0m\n\u001b[1;32m      1\u001b[0m \u001b[0;32mimport\u001b[0m \u001b[0mio\u001b[0m\u001b[0;34m\u001b[0m\u001b[0;34m\u001b[0m\u001b[0m\n\u001b[1;32m      2\u001b[0m \u001b[0;32mimport\u001b[0m \u001b[0mpandas\u001b[0m \u001b[0;32mas\u001b[0m \u001b[0mpd\u001b[0m\u001b[0;34m\u001b[0m\u001b[0;34m\u001b[0m\u001b[0m\n\u001b[0;32m----> 3\u001b[0;31m \u001b[0mdf\u001b[0m\u001b[0;34m=\u001b[0m\u001b[0mpd\u001b[0m\u001b[0;34m.\u001b[0m\u001b[0mread_csv\u001b[0m\u001b[0;34m(\u001b[0m\u001b[0mio\u001b[0m\u001b[0;34m.\u001b[0m\u001b[0mBytesIO\u001b[0m\u001b[0;34m(\u001b[0m\u001b[0mdata\u001b[0m\u001b[0;34m(\u001b[0m\u001b[0;34m'mount_everest_deaths.csv'\u001b[0m\u001b[0;34m)\u001b[0m\u001b[0;34m)\u001b[0m\u001b[0;34m)\u001b[0m\u001b[0;34m\u001b[0m\u001b[0;34m\u001b[0m\u001b[0m\n\u001b[0m\u001b[1;32m      4\u001b[0m \u001b[0mdf\u001b[0m\u001b[0;34m.\u001b[0m\u001b[0mhead\u001b[0m\u001b[0;34m(\u001b[0m\u001b[0;34m)\u001b[0m\u001b[0;34m\u001b[0m\u001b[0;34m\u001b[0m\u001b[0m\n",
            "\u001b[0;31mTypeError\u001b[0m: 'dict' object is not callable"
          ]
        }
      ]
    },
    {
      "cell_type": "markdown",
      "source": [],
      "metadata": {
        "id": "JAmCXK3T1B9q"
      }
    },
    {
      "cell_type": "code",
      "source": [],
      "metadata": {
        "id": "INve-dk31-Xl"
      },
      "execution_count": null,
      "outputs": []
    }
  ]
}